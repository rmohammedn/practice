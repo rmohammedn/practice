{
 "cells": [
  {
   "cell_type": "code",
   "execution_count": null,
   "metadata": {},
   "outputs": [],
   "source": [
    "### tensorflow first create a graph which has placeholder, constant, variables and actions\n",
    "### if you want to access any of these variable use sess.run(variable, all the placeholder, required to calc variable)\n",
    "### you always have to give placeholder value to that variable which uses placeholder even in single session.\n",
    "### if it doesn't use placeholder then you can run without placeholder\n"
   ]
  },
  {
   "cell_type": "code",
   "execution_count": 65,
   "metadata": {},
   "outputs": [],
   "source": [
    "import tensorflow as tf\n",
    "import numpy as np\n",
    "\n",
    "x = tf.constant(10.0)\n",
    "y = tf.placeholder(tf.float32)\n",
    "z = tf.placeholder(tf.float32)\n",
    "a = tf.placeholder(tf.float32)\n",
    "addition = tf.Variable(1.0, dtype=tf.float32)"
   ]
  },
  {
   "cell_type": "code",
   "execution_count": 74,
   "metadata": {},
   "outputs": [],
   "source": [
    "product = tf.multiply(y, z)\n",
    "addition = tf.multiply(addition, x)\n",
    "\n",
    "def divide(a, z):\n",
    "    return a/z\n",
    "\n",
    "div = divide(y, z)"
   ]
  },
  {
   "cell_type": "code",
   "execution_count": 75,
   "metadata": {},
   "outputs": [
    {
     "name": "stdout",
     "output_type": "stream",
     "text": [
      "10.0\n",
      "10.0\n",
      "4.0\n",
      "1000.0\n"
     ]
    }
   ],
   "source": [
    "sess = tf.Session()\n",
    "init = tf.global_variables_initializer()\n",
    "sess.run(init)\n",
    "print(sess.run(product, {y: 5.0, z: 2.0, a: 10}))\n",
    "print(sess.run(y, {y:10}))\n",
    "print(sess.run(div, {y:20, z: 5}))\n",
    "print(sess.run(addition))\n",
    "\n",
    "## see what happens\n",
    "\n",
    "sess.close()"
   ]
  },
  {
   "cell_type": "code",
   "execution_count": null,
   "metadata": {},
   "outputs": [],
   "source": []
  }
 ],
 "metadata": {
  "kernelspec": {
   "display_name": "Python 2",
   "language": "python",
   "name": "python2"
  },
  "language_info": {
   "codemirror_mode": {
    "name": "ipython",
    "version": 2
   },
   "file_extension": ".py",
   "mimetype": "text/x-python",
   "name": "python",
   "nbconvert_exporter": "python",
   "pygments_lexer": "ipython2",
   "version": "2.7.15+"
  }
 },
 "nbformat": 4,
 "nbformat_minor": 2
}
